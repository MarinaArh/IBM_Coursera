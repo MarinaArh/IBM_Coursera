{
 "cells": [
  {
   "cell_type": "markdown",
   "metadata": {},
   "source": [
    "# Part 1"
   ]
  },
  {
   "cell_type": "markdown",
   "metadata": {},
   "source": [
    "Use the Notebook to build the code to scrape the following Wikipedia page, https://en.wikipedia.org/wiki/List_of_postal_codes_of_Canada:_M, in order to obtain the data that is in the table of postal codes and to transform the data into a pandas dataframe"
   ]
  },
  {
   "cell_type": "code",
   "execution_count": 281,
   "metadata": {},
   "outputs": [],
   "source": [
    "import pandas as pd\n",
    "import numpy as np\n",
    "import lxml"
   ]
  },
  {
   "cell_type": "code",
   "execution_count": 282,
   "metadata": {},
   "outputs": [],
   "source": [
    "pd.set_option('display.max_columns', None)\n",
    "pd.set_option('display.max_rows', None) "
   ]
  },
  {
   "cell_type": "code",
   "execution_count": 283,
   "metadata": {},
   "outputs": [
    {
     "data": {
      "text/html": [
       "<div>\n",
       "<style scoped>\n",
       "    .dataframe tbody tr th:only-of-type {\n",
       "        vertical-align: middle;\n",
       "    }\n",
       "\n",
       "    .dataframe tbody tr th {\n",
       "        vertical-align: top;\n",
       "    }\n",
       "\n",
       "    .dataframe thead th {\n",
       "        text-align: right;\n",
       "    }\n",
       "</style>\n",
       "<table border=\"1\" class=\"dataframe\">\n",
       "  <thead>\n",
       "    <tr style=\"text-align: right;\">\n",
       "      <th></th>\n",
       "      <th>Postal Code</th>\n",
       "      <th>Borough</th>\n",
       "      <th>Neighborhood</th>\n",
       "    </tr>\n",
       "  </thead>\n",
       "  <tbody>\n",
       "    <tr>\n",
       "      <th>0</th>\n",
       "      <td>M1A</td>\n",
       "      <td>Not assigned</td>\n",
       "      <td>NaN</td>\n",
       "    </tr>\n",
       "    <tr>\n",
       "      <th>1</th>\n",
       "      <td>M2A</td>\n",
       "      <td>Not assigned</td>\n",
       "      <td>NaN</td>\n",
       "    </tr>\n",
       "    <tr>\n",
       "      <th>2</th>\n",
       "      <td>M3A</td>\n",
       "      <td>North York</td>\n",
       "      <td>Parkwoods</td>\n",
       "    </tr>\n",
       "    <tr>\n",
       "      <th>3</th>\n",
       "      <td>M4A</td>\n",
       "      <td>North York</td>\n",
       "      <td>Victoria Village</td>\n",
       "    </tr>\n",
       "    <tr>\n",
       "      <th>4</th>\n",
       "      <td>M5A</td>\n",
       "      <td>Downtown Toronto</td>\n",
       "      <td>Regent Park, Harbourfront</td>\n",
       "    </tr>\n",
       "  </tbody>\n",
       "</table>\n",
       "</div>"
      ],
      "text/plain": [
       "  Postal Code           Borough               Neighborhood\n",
       "0         M1A      Not assigned                        NaN\n",
       "1         M2A      Not assigned                        NaN\n",
       "2         M3A        North York                  Parkwoods\n",
       "3         M4A        North York           Victoria Village\n",
       "4         M5A  Downtown Toronto  Regent Park, Harbourfront"
      ]
     },
     "execution_count": 283,
     "metadata": {},
     "output_type": "execute_result"
    }
   ],
   "source": [
    "df = pd.DataFrame(pd.read_html('https://en.wikipedia.org/wiki/List_of_postal_codes_of_Canada:_M')[0])\n",
    "df.head()"
   ]
  },
  {
   "cell_type": "markdown",
   "metadata": {},
   "source": [
    "**The dataframe will consist of three columns: PostalCode, Borough, and Neighborhood**"
   ]
  },
  {
   "cell_type": "code",
   "execution_count": 284,
   "metadata": {},
   "outputs": [],
   "source": [
    "column_names = ['PostalCode', 'Borough', 'Neighborhood']\n",
    "df.columns = column_names"
   ]
  },
  {
   "cell_type": "markdown",
   "metadata": {},
   "source": [
    "**Only process the cells that have an assigned borough. Ignore cells with a borough that is Not assigned.**"
   ]
  },
  {
   "cell_type": "code",
   "execution_count": 285,
   "metadata": {},
   "outputs": [
    {
     "data": {
      "text/html": [
       "<div>\n",
       "<style scoped>\n",
       "    .dataframe tbody tr th:only-of-type {\n",
       "        vertical-align: middle;\n",
       "    }\n",
       "\n",
       "    .dataframe tbody tr th {\n",
       "        vertical-align: top;\n",
       "    }\n",
       "\n",
       "    .dataframe thead th {\n",
       "        text-align: right;\n",
       "    }\n",
       "</style>\n",
       "<table border=\"1\" class=\"dataframe\">\n",
       "  <thead>\n",
       "    <tr style=\"text-align: right;\">\n",
       "      <th></th>\n",
       "      <th>PostalCode</th>\n",
       "      <th>Borough</th>\n",
       "      <th>Neighborhood</th>\n",
       "    </tr>\n",
       "  </thead>\n",
       "  <tbody>\n",
       "    <tr>\n",
       "      <th>2</th>\n",
       "      <td>M3A</td>\n",
       "      <td>North York</td>\n",
       "      <td>Parkwoods</td>\n",
       "    </tr>\n",
       "    <tr>\n",
       "      <th>3</th>\n",
       "      <td>M4A</td>\n",
       "      <td>North York</td>\n",
       "      <td>Victoria Village</td>\n",
       "    </tr>\n",
       "    <tr>\n",
       "      <th>4</th>\n",
       "      <td>M5A</td>\n",
       "      <td>Downtown Toronto</td>\n",
       "      <td>Regent Park, Harbourfront</td>\n",
       "    </tr>\n",
       "    <tr>\n",
       "      <th>5</th>\n",
       "      <td>M6A</td>\n",
       "      <td>North York</td>\n",
       "      <td>Lawrence Manor, Lawrence Heights</td>\n",
       "    </tr>\n",
       "    <tr>\n",
       "      <th>6</th>\n",
       "      <td>M7A</td>\n",
       "      <td>Downtown Toronto</td>\n",
       "      <td>Queen's Park, Ontario Provincial Government</td>\n",
       "    </tr>\n",
       "  </tbody>\n",
       "</table>\n",
       "</div>"
      ],
      "text/plain": [
       "  PostalCode           Borough                                 Neighborhood\n",
       "2        M3A        North York                                    Parkwoods\n",
       "3        M4A        North York                             Victoria Village\n",
       "4        M5A  Downtown Toronto                    Regent Park, Harbourfront\n",
       "5        M6A        North York             Lawrence Manor, Lawrence Heights\n",
       "6        M7A  Downtown Toronto  Queen's Park, Ontario Provincial Government"
      ]
     },
     "execution_count": 285,
     "metadata": {},
     "output_type": "execute_result"
    }
   ],
   "source": [
    "df.drop(df[df['Borough'] == 'Not assigned'].index , inplace=True)\n",
    "df.head()"
   ]
  },
  {
   "cell_type": "markdown",
   "metadata": {},
   "source": [
    "**More than one neighborhood can exist in one postal code area. For example, in the table on the Wikipedia page, you will notice that M5A is listed twice and has two neighborhoods: Harbourfront and Regent Park. These two rows will be combined into one row with the neighborhoods separated with a comma as shown in row 11 in the above table.** http://queirozf.com/entries/pandas-dataframe-groupby-examples"
   ]
  },
  {
   "cell_type": "code",
   "execution_count": 286,
   "metadata": {},
   "outputs": [
    {
     "data": {
      "text/html": [
       "<div>\n",
       "<style scoped>\n",
       "    .dataframe tbody tr th:only-of-type {\n",
       "        vertical-align: middle;\n",
       "    }\n",
       "\n",
       "    .dataframe tbody tr th {\n",
       "        vertical-align: top;\n",
       "    }\n",
       "\n",
       "    .dataframe thead th {\n",
       "        text-align: right;\n",
       "    }\n",
       "</style>\n",
       "<table border=\"1\" class=\"dataframe\">\n",
       "  <thead>\n",
       "    <tr style=\"text-align: right;\">\n",
       "      <th></th>\n",
       "      <th>PostalCode</th>\n",
       "      <th>Borough</th>\n",
       "      <th>Neighborhood</th>\n",
       "    </tr>\n",
       "  </thead>\n",
       "  <tbody>\n",
       "    <tr>\n",
       "      <th>0</th>\n",
       "      <td>M1B</td>\n",
       "      <td>Scarborough</td>\n",
       "      <td>Malvern, Rouge</td>\n",
       "    </tr>\n",
       "    <tr>\n",
       "      <th>1</th>\n",
       "      <td>M1C</td>\n",
       "      <td>Scarborough</td>\n",
       "      <td>Rouge Hill, Port Union, Highland Creek</td>\n",
       "    </tr>\n",
       "    <tr>\n",
       "      <th>2</th>\n",
       "      <td>M1E</td>\n",
       "      <td>Scarborough</td>\n",
       "      <td>Guildwood, Morningside, West Hill</td>\n",
       "    </tr>\n",
       "    <tr>\n",
       "      <th>3</th>\n",
       "      <td>M1G</td>\n",
       "      <td>Scarborough</td>\n",
       "      <td>Woburn</td>\n",
       "    </tr>\n",
       "    <tr>\n",
       "      <th>4</th>\n",
       "      <td>M1H</td>\n",
       "      <td>Scarborough</td>\n",
       "      <td>Cedarbrae</td>\n",
       "    </tr>\n",
       "  </tbody>\n",
       "</table>\n",
       "</div>"
      ],
      "text/plain": [
       "  PostalCode      Borough                            Neighborhood\n",
       "0        M1B  Scarborough                          Malvern, Rouge\n",
       "1        M1C  Scarborough  Rouge Hill, Port Union, Highland Creek\n",
       "2        M1E  Scarborough       Guildwood, Morningside, West Hill\n",
       "3        M1G  Scarborough                                  Woburn\n",
       "4        M1H  Scarborough                               Cedarbrae"
      ]
     },
     "execution_count": 286,
     "metadata": {},
     "output_type": "execute_result"
    }
   ],
   "source": [
    "df['Neighborhood'] = df['Neighborhood'].str.strip()\n",
    "df_agg = df.groupby(['PostalCode','Borough'])['Neighborhood'].apply(lambda x: ', '.join(x)).to_frame()\n",
    "df_agg.reset_index(inplace=True)\n",
    "df_agg.head()"
   ]
  },
  {
   "cell_type": "markdown",
   "metadata": {},
   "source": [
    "**If a cell has a borough but a Not assigned neighborhood, then the neighborhood will be the same as the borough. So for the 9th cell in the table on the Wikipedia page, the value of the Borough and the Neighborhood columns will be Queen's Park.**"
   ]
  },
  {
   "cell_type": "code",
   "execution_count": 287,
   "metadata": {},
   "outputs": [],
   "source": [
    "df_agg.loc[df_agg['Neighborhood'] == 'Not assigned', 'Neighborhood'] = df_agg['Borough']"
   ]
  },
  {
   "cell_type": "markdown",
   "metadata": {},
   "source": [
    "**In the last cell of your notebook, use the .shape method to print the number of rows of your dataframe.**"
   ]
  },
  {
   "cell_type": "code",
   "execution_count": 288,
   "metadata": {},
   "outputs": [
    {
     "data": {
      "text/plain": [
       "(103, 3)"
      ]
     },
     "execution_count": 288,
     "metadata": {},
     "output_type": "execute_result"
    }
   ],
   "source": [
    "df_agg.shape"
   ]
  },
  {
   "cell_type": "markdown",
   "metadata": {},
   "source": [
    "# Part 2"
   ]
  },
  {
   "cell_type": "markdown",
   "metadata": {},
   "source": [
    "Now that you have built a dataframe of the postal code of each neighborhood along with the borough name and neighborhood name, in order to utilize the Foursquare location data, we need to get the latitude and the longitude coordinates of each neighborhood."
   ]
  },
  {
   "cell_type": "markdown",
   "metadata": {},
   "source": [
    "**I used csv file that has the geographical coordinates of each postal code to create the dataframe**"
   ]
  },
  {
   "cell_type": "code",
   "execution_count": 289,
   "metadata": {},
   "outputs": [
    {
     "data": {
      "text/html": [
       "<div>\n",
       "<style scoped>\n",
       "    .dataframe tbody tr th:only-of-type {\n",
       "        vertical-align: middle;\n",
       "    }\n",
       "\n",
       "    .dataframe tbody tr th {\n",
       "        vertical-align: top;\n",
       "    }\n",
       "\n",
       "    .dataframe thead th {\n",
       "        text-align: right;\n",
       "    }\n",
       "</style>\n",
       "<table border=\"1\" class=\"dataframe\">\n",
       "  <thead>\n",
       "    <tr style=\"text-align: right;\">\n",
       "      <th></th>\n",
       "      <th>Postal Code</th>\n",
       "      <th>Latitude</th>\n",
       "      <th>Longitude</th>\n",
       "    </tr>\n",
       "  </thead>\n",
       "  <tbody>\n",
       "    <tr>\n",
       "      <th>0</th>\n",
       "      <td>M1B</td>\n",
       "      <td>43.806686</td>\n",
       "      <td>-79.194353</td>\n",
       "    </tr>\n",
       "    <tr>\n",
       "      <th>1</th>\n",
       "      <td>M1C</td>\n",
       "      <td>43.784535</td>\n",
       "      <td>-79.160497</td>\n",
       "    </tr>\n",
       "    <tr>\n",
       "      <th>2</th>\n",
       "      <td>M1E</td>\n",
       "      <td>43.763573</td>\n",
       "      <td>-79.188711</td>\n",
       "    </tr>\n",
       "    <tr>\n",
       "      <th>3</th>\n",
       "      <td>M1G</td>\n",
       "      <td>43.770992</td>\n",
       "      <td>-79.216917</td>\n",
       "    </tr>\n",
       "    <tr>\n",
       "      <th>4</th>\n",
       "      <td>M1H</td>\n",
       "      <td>43.773136</td>\n",
       "      <td>-79.239476</td>\n",
       "    </tr>\n",
       "  </tbody>\n",
       "</table>\n",
       "</div>"
      ],
      "text/plain": [
       "  Postal Code   Latitude  Longitude\n",
       "0         M1B  43.806686 -79.194353\n",
       "1         M1C  43.784535 -79.160497\n",
       "2         M1E  43.763573 -79.188711\n",
       "3         M1G  43.770992 -79.216917\n",
       "4         M1H  43.773136 -79.239476"
      ]
     },
     "execution_count": 289,
     "metadata": {},
     "output_type": "execute_result"
    }
   ],
   "source": [
    "coordinates = pd.read_csv('http://cocl.us/Geospatial_data')\n",
    "coordinates.head()"
   ]
  },
  {
   "cell_type": "markdown",
   "metadata": {},
   "source": [
    "**Merging two dataframes together based on their Postal Code**"
   ]
  },
  {
   "cell_type": "code",
   "execution_count": 290,
   "metadata": {},
   "outputs": [
    {
     "name": "stdout",
     "output_type": "stream",
     "text": [
      "(103, 5)\n"
     ]
    },
    {
     "data": {
      "text/html": [
       "<div>\n",
       "<style scoped>\n",
       "    .dataframe tbody tr th:only-of-type {\n",
       "        vertical-align: middle;\n",
       "    }\n",
       "\n",
       "    .dataframe tbody tr th {\n",
       "        vertical-align: top;\n",
       "    }\n",
       "\n",
       "    .dataframe thead th {\n",
       "        text-align: right;\n",
       "    }\n",
       "</style>\n",
       "<table border=\"1\" class=\"dataframe\">\n",
       "  <thead>\n",
       "    <tr style=\"text-align: right;\">\n",
       "      <th></th>\n",
       "      <th>PostalCode</th>\n",
       "      <th>Borough</th>\n",
       "      <th>Neighborhood</th>\n",
       "      <th>Latitude</th>\n",
       "      <th>Longitude</th>\n",
       "    </tr>\n",
       "  </thead>\n",
       "  <tbody>\n",
       "    <tr>\n",
       "      <th>0</th>\n",
       "      <td>M1B</td>\n",
       "      <td>Scarborough</td>\n",
       "      <td>Malvern, Rouge</td>\n",
       "      <td>43.806686</td>\n",
       "      <td>-79.194353</td>\n",
       "    </tr>\n",
       "    <tr>\n",
       "      <th>1</th>\n",
       "      <td>M1C</td>\n",
       "      <td>Scarborough</td>\n",
       "      <td>Rouge Hill, Port Union, Highland Creek</td>\n",
       "      <td>43.784535</td>\n",
       "      <td>-79.160497</td>\n",
       "    </tr>\n",
       "    <tr>\n",
       "      <th>2</th>\n",
       "      <td>M1E</td>\n",
       "      <td>Scarborough</td>\n",
       "      <td>Guildwood, Morningside, West Hill</td>\n",
       "      <td>43.763573</td>\n",
       "      <td>-79.188711</td>\n",
       "    </tr>\n",
       "    <tr>\n",
       "      <th>3</th>\n",
       "      <td>M1G</td>\n",
       "      <td>Scarborough</td>\n",
       "      <td>Woburn</td>\n",
       "      <td>43.770992</td>\n",
       "      <td>-79.216917</td>\n",
       "    </tr>\n",
       "    <tr>\n",
       "      <th>4</th>\n",
       "      <td>M1H</td>\n",
       "      <td>Scarborough</td>\n",
       "      <td>Cedarbrae</td>\n",
       "      <td>43.773136</td>\n",
       "      <td>-79.239476</td>\n",
       "    </tr>\n",
       "  </tbody>\n",
       "</table>\n",
       "</div>"
      ],
      "text/plain": [
       "  PostalCode      Borough                            Neighborhood   Latitude  \\\n",
       "0        M1B  Scarborough                          Malvern, Rouge  43.806686   \n",
       "1        M1C  Scarborough  Rouge Hill, Port Union, Highland Creek  43.784535   \n",
       "2        M1E  Scarborough       Guildwood, Morningside, West Hill  43.763573   \n",
       "3        M1G  Scarborough                                  Woburn  43.770992   \n",
       "4        M1H  Scarborough                               Cedarbrae  43.773136   \n",
       "\n",
       "   Longitude  \n",
       "0 -79.194353  \n",
       "1 -79.160497  \n",
       "2 -79.188711  \n",
       "3 -79.216917  \n",
       "4 -79.239476  "
      ]
     },
     "execution_count": 290,
     "metadata": {},
     "output_type": "execute_result"
    }
   ],
   "source": [
    "toronto_agg = pd.merge(df_agg, coordinates,how='left',left_on='PostalCode', right_on='Postal Code').drop('Postal Code', 1)\n",
    "\n",
    "print(toronto_agg.shape)\n",
    "toronto_agg.head()"
   ]
  },
  {
   "cell_type": "markdown",
   "metadata": {},
   "source": [
    "# Part 3"
   ]
  },
  {
   "cell_type": "markdown",
   "metadata": {},
   "source": [
    "Explore and cluster the neighborhoods in Toronto. You can decide to work with only boroughs that contain the word Toronto and then replicate the same analysis we did to the New York City data. It is up to you.\n",
    "\n",
    "Just make sure:\n",
    "\n",
    "* to add enough Markdown cells to explain what you decided to do and to report any observations you make.\n",
    "* to generate maps to visualize your neighborhoods and how they cluster together.\n",
    "Once you are happy with your analysis, submit a link to the new Notebook on your Github repository. "
   ]
  },
  {
   "cell_type": "markdown",
   "metadata": {},
   "source": [
    "**Use geopy library to get the latitude and longitude values of Toronto**"
   ]
  },
  {
   "cell_type": "code",
   "execution_count": 291,
   "metadata": {},
   "outputs": [],
   "source": [
    "from geopy.geocoders import Nominatim\n",
    "import folium\n",
    "import requests\n",
    "\n",
    "import matplotlib.cm as cm\n",
    "import matplotlib.colors as colors"
   ]
  },
  {
   "cell_type": "code",
   "execution_count": 292,
   "metadata": {},
   "outputs": [
    {
     "name": "stdout",
     "output_type": "stream",
     "text": [
      "The geograpical coordinate of Toronto are 43.6534817, -79.3839347.\n"
     ]
    }
   ],
   "source": [
    "address = 'Toronto, Ontario'\n",
    "\n",
    "geolocator = Nominatim(user_agent=\"my_explorer\")\n",
    "location = geolocator.geocode(address)\n",
    "latitude = location.latitude\n",
    "longitude = location.longitude\n",
    "print('The geograpical coordinate of Toronto are {}, {}.'.format(latitude, longitude))"
   ]
  },
  {
   "cell_type": "markdown",
   "metadata": {},
   "source": [
    "**Create a map of Toronto with neighborhoods superimposed on top**"
   ]
  },
  {
   "cell_type": "code",
   "execution_count": 293,
   "metadata": {},
   "outputs": [
    {
     "data": {
      "text/html": [
       "<div style=\"width:100%;\"><div style=\"position:relative;width:100%;height:0;padding-bottom:60%;\"><iframe src=\"data:text/html;charset=utf-8;base64,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\" style=\"position:absolute;width:100%;height:100%;left:0;top:0;border:none !important;\" allowfullscreen webkitallowfullscreen mozallowfullscreen></iframe></div></div>"
      ],
      "text/plain": [
       "<folium.folium.Map at 0x7efdf9e3fbe0>"
      ]
     },
     "execution_count": 293,
     "metadata": {},
     "output_type": "execute_result"
    }
   ],
   "source": [
    "# create map of Toronto using latitude and longitude values\n",
    "map_toronto = folium.Map(location=[latitude, longitude], zoom_start=10)\n",
    "\n",
    "# add markers to map\n",
    "for lat, lng, borough, neighborhood in zip(toronto_agg['Latitude'], toronto_agg['Longitude'], toronto_agg['Borough'], toronto_agg['Neighborhood']):\n",
    "    label = '{}, {}'.format(neighborhood, borough)\n",
    "    label = folium.Popup(label, parse_html=True)\n",
    "    folium.CircleMarker(\n",
    "        [lat, lng],\n",
    "        radius=5,\n",
    "        popup=label,\n",
    "        color='blue',\n",
    "        fill=True,\n",
    "        fill_color='#3186cc',\n",
    "        fill_opacity=0.7,\n",
    "        parse_html=False).add_to(map_toronto)  \n",
    "    \n",
    "map_toronto"
   ]
  },
  {
   "cell_type": "markdown",
   "metadata": {},
   "source": [
    "**Define Foursquare Credentials and Version**"
   ]
  },
  {
   "cell_type": "code",
   "execution_count": 294,
   "metadata": {},
   "outputs": [
    {
     "name": "stdout",
     "output_type": "stream",
     "text": [
      "Your credentails:\n"
     ]
    },
    {
     "name": "stdin",
     "output_type": "stream",
     "text": [
      "CLIENT_ID:  1\n",
      "CLIENT_SECRET: 1\n"
     ]
    }
   ],
   "source": [
    "VERSION = '20180605' # Foursquare API version\n",
    "\n",
    "print('Your credentails:')\n",
    "CLIENT_ID = input('CLIENT_ID: ')\n",
    "CLIENT_SECRET = input('CLIENT_SECRET:')"
   ]
  },
  {
   "cell_type": "markdown",
   "metadata": {},
   "source": [
    "**Explore Neighborhoods**"
   ]
  },
  {
   "cell_type": "code",
   "execution_count": 295,
   "metadata": {},
   "outputs": [],
   "source": [
    "def getNearbyVenues(names, latitudes, longitudes, radius=500, limit=100):\n",
    "    \n",
    "    venues_list=[]\n",
    "    null_venue_list=[] # neighborhoods without venues\n",
    "    for name, lat, lng in zip(names, latitudes, longitudes):        \n",
    "        # create the API request URL\n",
    "        url = 'https://api.foursquare.com/v2/venues/explore?&client_id={}&client_secret={}&v={}&ll={},{}&radius={}&limit={}'.format(\n",
    "            CLIENT_ID, \n",
    "            CLIENT_SECRET, \n",
    "            VERSION, \n",
    "            lat, \n",
    "            lng, \n",
    "            radius, \n",
    "            limit)\n",
    "            \n",
    "        # make the GET request\n",
    "        results = requests.get(url).json()\n",
    "        \n",
    "        try:\n",
    "            results = results[\"response\"]['groups'][0]['items']\n",
    "        except:\n",
    "            raise KeyError(results['meta']['errorDetail'])\n",
    "            return\n",
    "        \n",
    "        if len(results) == 0:\n",
    "            null_venue_list.append(name)\n",
    "            \n",
    "        # return only relevant information for each nearby venue\n",
    "        venues_list.append([(\n",
    "            name, \n",
    "            lat, \n",
    "            lng, \n",
    "            v['venue']['name'], \n",
    "            v['venue']['location']['lat'], \n",
    "            v['venue']['location']['lng'],  \n",
    "            v['venue']['categories'][0]['name']) for v in results])\n",
    "\n",
    "    nearby_venues = pd.DataFrame([item for venue_list in venues_list for item in venue_list])\n",
    "    nearby_venues.columns = ['Neighborhood', \n",
    "                  'Neighborhood Latitude', \n",
    "                  'Neighborhood Longitude', \n",
    "                  'Venue', \n",
    "                  'Venue Latitude', \n",
    "                  'Venue Longitude', \n",
    "                  'Venue Category']\n",
    "    \n",
    "    without_venues = pd.DataFrame(null_venue_list, columns=['Neighborhood'])\n",
    "    \n",
    "    return(nearby_venues, without_venues)"
   ]
  },
  {
   "cell_type": "code",
   "execution_count": null,
   "metadata": {},
   "outputs": [],
   "source": [
    "toronto_venues, toronto_null_venue = getNearbyVenues(names=toronto_agg['Neighborhood'], \n",
    "                                                     latitudes=toronto_agg['Latitude'],\n",
    "                                                     longitudes=toronto_agg['Longitude']\n",
    "                                                     )\n",
    "print(toronto_venues.shape)\n",
    "toronto_venues.head()"
   ]
  },
  {
   "cell_type": "code",
   "execution_count": null,
   "metadata": {},
   "outputs": [],
   "source": [
    "toronto_venues.groupby('Neighborhood').count()"
   ]
  },
  {
   "cell_type": "code",
   "execution_count": null,
   "metadata": {},
   "outputs": [],
   "source": [
    "print('There are {} uniques categories.'.format(len(toronto_venues['Venue Category'].unique())))"
   ]
  },
  {
   "cell_type": "markdown",
   "metadata": {},
   "source": [
    "#### Analyze Each Neighborhood"
   ]
  },
  {
   "cell_type": "code",
   "execution_count": null,
   "metadata": {},
   "outputs": [],
   "source": [
    "# one hot encoding\n",
    "# Convert categorical variable into dummy/indicator variables\n",
    "toronto_onehot = pd.get_dummies(toronto_venues[['Venue Category']], prefix=\"\", prefix_sep=\"\")\n",
    "\n",
    "# add neighborhood column back to dataframe\n",
    "toronto_onehot['Neighborhood'] = toronto_venues['Neighborhood']\n",
    "\n",
    "# move neighborhood column to the first column\n",
    "cols = list(toronto_onehot.columns.values) # make a list of all of the columns in the toronto_onehot\n",
    "cols.pop(cols.index('Neighborhood')) # remove Neighborhood from list\n",
    "toronto_onehot = toronto_onehot[['Neighborhood']+cols] # right order\n",
    "\n",
    "print(toronto_onehot.shape)\n",
    "toronto_onehot.head()"
   ]
  },
  {
   "cell_type": "markdown",
   "metadata": {},
   "source": [
    "**Group rows by neighborhood and by taking the mean of the frequency of occurrence of each category**"
   ]
  },
  {
   "cell_type": "code",
   "execution_count": null,
   "metadata": {},
   "outputs": [],
   "source": [
    "# add to toronto_onehot values from toronto_null_venue\n",
    "toronto_onehot = pd.concat([toronto_onehot, toronto_null_venue], ignore_index=True, sort=False).fillna(0)\n",
    "\n",
    "toronto_grouped = toronto_onehot.groupby('Neighborhood').mean().reset_index()\n",
    "\n",
    "print(toronto_grouped.shape)\n",
    "toronto_grouped"
   ]
  },
  {
   "cell_type": "markdown",
   "metadata": {},
   "source": [
    "**Get each neighborhood along with the top 10 most common venues in dataframe**"
   ]
  },
  {
   "cell_type": "code",
   "execution_count": null,
   "metadata": {
    "collapsed": false,
    "jupyter": {
     "outputs_hidden": false
    }
   },
   "outputs": [],
   "source": [
    "def return_most_common_venues(row, num_top_venues):\n",
    "    row_categories = row.iloc[1:]\n",
    "    row_categories_sorted = row_categories.sort_values(ascending=False)\n",
    "    \n",
    "    return row_categories_sorted.index.values[0:num_top_venues]"
   ]
  },
  {
   "cell_type": "markdown",
   "metadata": {},
   "source": [
    "**Create a new dataframe that includes the cluster as well as the top 10 venues for each neighborhood**"
   ]
  },
  {
   "cell_type": "code",
   "execution_count": null,
   "metadata": {},
   "outputs": [],
   "source": [
    "num_top_venues = 10\n",
    "\n",
    "indicators = ['st', 'nd', 'rd']\n",
    "\n",
    "# create columns according to number of top venues\n",
    "columns = ['Neighborhood']\n",
    "for ind in np.arange(num_top_venues):\n",
    "    try:\n",
    "        columns.append('{}{} Most Common Venue'.format(ind+1, indicators[ind]))\n",
    "    except:\n",
    "        columns.append('{}th Most Common Venue'.format(ind+1))\n",
    "\n",
    "# create a new dataframe\n",
    "neighborhoods_venues_sorted = pd.DataFrame(columns=columns)\n",
    "neighborhoods_venues_sorted['Neighborhood'] = toronto_grouped['Neighborhood']\n",
    "\n",
    "for ind in np.arange(toronto_grouped.shape[0]):\n",
    "    neighborhoods_venues_sorted.iloc[ind, 1:] = return_most_common_venues(toronto_grouped.iloc[ind, :], num_top_venues)\n",
    "\n",
    "neighborhoods_venues_sorted.head()"
   ]
  },
  {
   "cell_type": "markdown",
   "metadata": {},
   "source": [
    "### Cluster Neighborhoods"
   ]
  },
  {
   "cell_type": "code",
   "execution_count": null,
   "metadata": {},
   "outputs": [],
   "source": [
    "# import k-means from clustering stage\n",
    "from sklearn.cluster import KMeans"
   ]
  },
  {
   "cell_type": "code",
   "execution_count": null,
   "metadata": {},
   "outputs": [],
   "source": [
    "# set number of clusters\n",
    "kclusters = 5\n",
    "\n",
    "toronto_grouped_clustering = toronto_grouped.drop('Neighborhood', 1)\n",
    "\n",
    "# run k-means clustering\n",
    "kmeans = KMeans(n_clusters=kclusters, random_state=0).fit(toronto_grouped_clustering)\n",
    "\n",
    "# check cluster labels generated for each row in the dataframe\n",
    "kmeans.labels_"
   ]
  },
  {
   "cell_type": "code",
   "execution_count": null,
   "metadata": {},
   "outputs": [],
   "source": [
    "# add clustering labels\n",
    "neighborhoods_venues_s = neighborhoods_venues_sorted.copy()\n",
    "neighborhoods_venues_s.insert(0, 'Cluster Labels', kmeans.labels_)"
   ]
  },
  {
   "cell_type": "code",
   "execution_count": null,
   "metadata": {},
   "outputs": [],
   "source": [
    "toronto_merged = toronto_agg\n",
    "\n",
    "# merge toronto_grouped with toronto_data to add latitude/longitude for each neighborhood\n",
    "toronto_merged = toronto_merged.join(neighborhoods_venues_s.set_index('Neighborhood'), on='Neighborhood')\n",
    "toronto_merged.head()"
   ]
  },
  {
   "cell_type": "markdown",
   "metadata": {},
   "source": [
    "**Visualize the resulting clusters**"
   ]
  },
  {
   "cell_type": "code",
   "execution_count": null,
   "metadata": {},
   "outputs": [],
   "source": [
    "# create map\n",
    "map_clusters = folium.Map(location=[latitude, longitude], zoom_start=11)\n",
    "\n",
    "# set color scheme for the clusters\n",
    "x = np.arange(kclusters)\n",
    "ys = [i + x + (i*x)**2 for i in range(kclusters)]\n",
    "colors_array = cm.rainbow(np.linspace(0, 1, len(ys)))\n",
    "rainbow = [colors.rgb2hex(i) for i in colors_array]\n",
    "\n",
    "# add markers to the map\n",
    "for lat, lon, poi, cluster in zip(toronto_merged['Latitude'], toronto_merged['Longitude'], toronto_merged['Neighborhood'], toronto_merged['Cluster Labels'].astype('int32')):\n",
    "    label = folium.Popup(str(poi) + ' Cluster ' + str(cluster), parse_html=True)\n",
    "    folium.CircleMarker(\n",
    "        [lat, lon],\n",
    "        radius=5,\n",
    "        popup=label,\n",
    "        color=rainbow[cluster-1],\n",
    "        fill=True,\n",
    "        fill_color=rainbow[cluster-1],\n",
    "        fill_opacity=0.7).add_to(map_clusters)\n",
    "       \n",
    "map_clusters"
   ]
  },
  {
   "cell_type": "markdown",
   "metadata": {},
   "source": [
    "#### Examine Clusters"
   ]
  },
  {
   "cell_type": "code",
   "execution_count": null,
   "metadata": {},
   "outputs": [],
   "source": [
    "cols_for_print = [1, 2] + list(range(5, toronto_merged.shape[1]))"
   ]
  },
  {
   "cell_type": "markdown",
   "metadata": {},
   "source": [
    "**Cluster 1 - Parks**"
   ]
  },
  {
   "cell_type": "code",
   "execution_count": null,
   "metadata": {},
   "outputs": [],
   "source": [
    "toronto_merged.loc[toronto_merged['Cluster Labels'] == 0, toronto_merged.columns[cols_for_print]]"
   ]
  },
  {
   "cell_type": "markdown",
   "metadata": {},
   "source": [
    "**Cluster 2 - Big common cluster**"
   ]
  },
  {
   "cell_type": "code",
   "execution_count": null,
   "metadata": {},
   "outputs": [],
   "source": [
    "toronto_merged.loc[toronto_merged['Cluster Labels'] == 1, toronto_merged.columns[cols_for_print]]"
   ]
  },
  {
   "cell_type": "markdown",
   "metadata": {},
   "source": [
    "**Cluster 3 - Small lonely cluster**"
   ]
  },
  {
   "cell_type": "code",
   "execution_count": null,
   "metadata": {},
   "outputs": [],
   "source": [
    "toronto_merged.loc[toronto_merged['Cluster Labels'] == 2, toronto_merged.columns[cols_for_print]]"
   ]
  },
  {
   "cell_type": "markdown",
   "metadata": {},
   "source": [
    "**Cluster 4 - Park & Yoga Studio**"
   ]
  },
  {
   "cell_type": "code",
   "execution_count": null,
   "metadata": {},
   "outputs": [],
   "source": [
    "toronto_merged.loc[toronto_merged['Cluster Labels'] == 3, toronto_merged.columns[cols_for_print]]"
   ]
  },
  {
   "cell_type": "markdown",
   "metadata": {},
   "source": [
    "**Cluster 5 - Baseball Field & Yoga Studio**"
   ]
  },
  {
   "cell_type": "code",
   "execution_count": null,
   "metadata": {},
   "outputs": [],
   "source": [
    "toronto_merged.loc[toronto_merged['Cluster Labels'] == 4, toronto_merged.columns[cols_for_print]]"
   ]
  },
  {
   "cell_type": "markdown",
   "metadata": {},
   "source": [
    "*I tried to give all clusters meaningful names.\n",
    "And some numbers about clusters: cluster 2 is the biggest, cluster 1 has 7 neighbourhoods, clusters 3 has just one neighbourhood, cluster 4 has 3 neighbourhoods and cluster 5 has 2 neighbourhoods.*"
   ]
  }
 ],
 "metadata": {
  "kernelspec": {
   "display_name": "Python 3",
   "language": "python",
   "name": "python3"
  },
  "language_info": {
   "codemirror_mode": {
    "name": "ipython",
    "version": 3
   },
   "file_extension": ".py",
   "mimetype": "text/x-python",
   "name": "python",
   "nbconvert_exporter": "python",
   "pygments_lexer": "ipython3",
   "version": "3.7.3"
  }
 },
 "nbformat": 4,
 "nbformat_minor": 4
}
